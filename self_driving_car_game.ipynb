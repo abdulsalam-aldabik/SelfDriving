{
 "cells": [
  {
   "cell_type": "markdown",
   "id": "efee1bd9",
   "metadata": {},
   "source": [
    "# install dep\n"
   ]
  },
  {
   "cell_type": "code",
   "execution_count": null,
   "id": "45214724",
   "metadata": {
    "vscode": {
     "languageId": "plaintext"
    }
   },
   "outputs": [],
   "source": [
    "%pip install dxcam\n"
   ]
  }
 ],
 "metadata": {
  "language_info": {
   "name": "python"
  }
 },
 "nbformat": 4,
 "nbformat_minor": 5
}
